{
 "cells": [
  {
   "cell_type": "code",
   "execution_count": 4,
   "metadata": {},
   "outputs": [],
   "source": [
    "import pandas as pd"
   ]
  },
  {
   "cell_type": "code",
   "execution_count": 5,
   "metadata": {},
   "outputs": [
    {
     "name": "stdout",
     "output_type": "stream",
     "text": [
      "     CntName     Criteria        Type  Coverage    1980    1981    1982  \\\n",
      "0    Armenia    Residence   Emigrants      Both      ..      ..      ..   \n",
      "1    Armenia    Residence  Immigrants      Both      ..      ..      ..   \n",
      "2  Australia    Residence   Emigrants      Both   90860   85600   92340   \n",
      "3  Australia    Residence  Immigrants      Both  184290  212690  195200   \n",
      "4    Austria  Citizenship   Emigrants  Citizens      ..      ..      ..   \n",
      "\n",
      "     1983    1984    1985  ...    2004    2005    2006    2007    2008   2009  \\\n",
      "0      ..      ..      ..  ...    8451    9303    8053    7461    6121   4100   \n",
      "1      ..      ..      ..  ...    1514    1497    1335    1112     864    861   \n",
      "2  100510   96360   93440  ...  212200  206690  204800  216580  220280     ..   \n",
      "3  153570  153530  172550  ...  350990  363470  402210  460650  535970     ..   \n",
      "4      ..      ..      ..  ...   21703   20333   19387   17828   18168  16376   \n",
      "\n",
      "    2010   2011   2012   2013  \n",
      "0     ..     ..     ..     ..  \n",
      "1     ..     ..     ..     ..  \n",
      "2     ..     ..     ..     ..  \n",
      "3     ..     ..     ..     ..  \n",
      "4  16059  14401  15443  15368  \n",
      "\n",
      "[5 rows x 38 columns]\n",
      "Total unique countries: 45\n"
     ]
    }
   ],
   "source": [
    "data = pd.read_excel('undesa_pd_2015_migration_flow_totals.xlsx', header=16)\n",
    "\n",
    "# Display the first few rows of the dataframe\n",
    "print(data.head())\n",
    "\n",
    "# Get the number of unique countries\n",
    "unique_countries = data['CntName'].nunique()\n",
    "print(f'Total unique countries: {unique_countries}')\n",
    "\n"
   ]
  }
 ],
 "metadata": {
  "kernelspec": {
   "display_name": "Python 3",
   "language": "python",
   "name": "python3"
  },
  "language_info": {
   "codemirror_mode": {
    "name": "ipython",
    "version": 3
   },
   "file_extension": ".py",
   "mimetype": "text/x-python",
   "name": "python",
   "nbconvert_exporter": "python",
   "pygments_lexer": "ipython3",
   "version": "3.12.4"
  }
 },
 "nbformat": 4,
 "nbformat_minor": 2
}
